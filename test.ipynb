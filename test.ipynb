{
 "cells": [
  {
   "cell_type": "code",
   "execution_count": 2,
   "metadata": {},
   "outputs": [
    {
     "name": "stdout",
     "output_type": "stream",
     "text": [
      "4.10.0\n"
     ]
    }
   ],
   "source": [
    "import cv2\n",
    "print(cv2.__version__)\n"
   ]
  },
  {
   "cell_type": "code",
   "execution_count": 3,
   "metadata": {},
   "outputs": [
    {
     "name": "stdout",
     "output_type": "stream",
     "text": [
      "Testing available webcam IDs...\n",
      "Webcam found at ID 0\n",
      "Webcam found at ID 1\n",
      "No webcam at ID 2\n",
      "No webcam at ID 3\n",
      "No webcam at ID 4\n",
      "No webcam at ID 5\n",
      "No webcam at ID 6\n",
      "No webcam at ID 7\n",
      "No webcam at ID 8\n",
      "No webcam at ID 9\n",
      "Webcam ID test completed.\n"
     ]
    }
   ],
   "source": [
    "import cv2\n",
    "\n",
    "def test_webcams():\n",
    "    print(\"Testing available webcam IDs...\")\n",
    "    for i in range(10):  # 0부터 9까지의 ID를 테스트\n",
    "        cap = cv2.VideoCapture(i)\n",
    "        if cap.isOpened():\n",
    "            print(f\"Webcam found at ID {i}\")\n",
    "            cap.release()\n",
    "        else:\n",
    "            print(f\"No webcam at ID {i}\")\n",
    "    print(\"Webcam ID test completed.\")\n",
    "\n",
    "test_webcams()\n"
   ]
  },
  {
   "cell_type": "code",
   "execution_count": 4,
   "metadata": {},
   "outputs": [
    {
     "name": "stdout",
     "output_type": "stream",
     "text": [
      "Testing webcam ID 0...\n",
      "Webcam ID 0 is working. Press 'q' to close.\n",
      "Testing webcam ID 1...\n",
      "Webcam ID 1 is working. Press 'q' to close.\n",
      "Testing webcam ID 2...\n",
      "Failed to open webcam ID 2.\n",
      "Testing webcam ID 3...\n",
      "Failed to open webcam ID 3.\n",
      "Testing webcam ID 4...\n",
      "Failed to open webcam ID 4.\n",
      "Testing webcam ID 5...\n",
      "Failed to open webcam ID 5.\n",
      "Testing webcam ID 6...\n",
      "Failed to open webcam ID 6.\n",
      "Testing webcam ID 7...\n",
      "Failed to open webcam ID 7.\n",
      "Testing webcam ID 8...\n",
      "Failed to open webcam ID 8.\n",
      "Testing webcam ID 9...\n",
      "Failed to open webcam ID 9.\n"
     ]
    }
   ],
   "source": [
    "import cv2\n",
    "\n",
    "def test_webcam_preview(id):\n",
    "    print(f\"Testing webcam ID {id}...\")\n",
    "    cap = cv2.VideoCapture(id)\n",
    "    if not cap.isOpened():\n",
    "        print(f\"Failed to open webcam ID {id}.\")\n",
    "        return\n",
    "\n",
    "    print(f\"Webcam ID {id} is working. Press 'q' to close.\")\n",
    "    while True:\n",
    "        ret, frame = cap.read()\n",
    "        if not ret:\n",
    "            print(\"Failed to grab frame.\")\n",
    "            break\n",
    "\n",
    "        cv2.imshow(f'Webcam ID {id}', frame)\n",
    "        if cv2.waitKey(1) & 0xFF == ord('q'):\n",
    "            break\n",
    "\n",
    "    cap.release()\n",
    "    cv2.destroyAllWindows()\n",
    "\n",
    "# 테스트하려는 ID를 반복적으로 확인\n",
    "for i in range(10):  # 0부터 9까지 확인\n",
    "    test_webcam_preview(i)\n"
   ]
  },
  {
   "cell_type": "code",
   "execution_count": null,
   "metadata": {},
   "outputs": [],
   "source": []
  }
 ],
 "metadata": {
  "kernelspec": {
   "display_name": "web_barcode_clone",
   "language": "python",
   "name": "python3"
  },
  "language_info": {
   "codemirror_mode": {
    "name": "ipython",
    "version": 3
   },
   "file_extension": ".py",
   "mimetype": "text/x-python",
   "name": "python",
   "nbconvert_exporter": "python",
   "pygments_lexer": "ipython3",
   "version": "3.8.20"
  }
 },
 "nbformat": 4,
 "nbformat_minor": 2
}
