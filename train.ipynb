{
 "cells": [
  {
   "cell_type": "code",
   "execution_count": null,
   "metadata": {
    "colab": {
     "base_uri": "https://localhost:8080/"
    },
    "id": "ldd3LllD_YVF",
    "outputId": "7c4227bb-e9d6-4847-cfa8-c605ec6dbb70"
   },
   "outputs": [
    {
     "name": "stdout",
     "output_type": "stream",
     "text": [
      "Mounted at /content/drive\n"
     ]
    }
   ],
   "source": [
    "from google.colab import drive\n",
    "drive.mount('/content/drive')"
   ]
  },
  {
   "cell_type": "code",
   "execution_count": null,
   "metadata": {
    "id": "ifB11bEFvBdW"
   },
   "outputs": [],
   "source": [
    "%cd /content/drive/MyDrive\n",
    "!unzip Original.zip"
   ]
  },
  {
   "cell_type": "code",
   "execution_count": 1,
   "metadata": {
    "id": "Gm8c7TEl_rjm"
   },
   "outputs": [
    {
     "name": "stdout",
     "output_type": "stream",
     "text": [
      "[WinError 3] 지정된 경로를 찾을 수 없습니다: '/content/drive/MyDrive/'\n",
      "c:\\Users\\mrlab\\Desktop\\code\\webcam\\Webcam-Barcode-Scanner\n"
     ]
    },
    {
     "name": "stderr",
     "output_type": "stream",
     "text": [
      "Cloning into 'yolov5'...\n"
     ]
    }
   ],
   "source": [
    "%cd /content/drive/MyDrive/\n",
    "!git clone https://github.com/ultralytics/yolov5 "
   ]
  },
  {
   "cell_type": "code",
   "execution_count": 2,
   "metadata": {
    "id": "dxvsQ6glAETm"
   },
   "outputs": [
    {
     "name": "stdout",
     "output_type": "stream",
     "text": [
      "c:\\Users\\mrlab\\Desktop\\code\\webcam\\Webcam-Barcode-Scanner\\yolov5\n",
      "Requirement already satisfied: gitpython>=3.1.30 in c:\\users\\mrlab\\miniconda3\\envs\\web_barcode_clone\\lib\\site-packages (from -r requirements.txt (line 5)) (3.1.43)\n",
      "Requirement already satisfied: matplotlib>=3.3 in c:\\users\\mrlab\\miniconda3\\envs\\web_barcode_clone\\lib\\site-packages (from -r requirements.txt (line 6)) (3.7.5)\n",
      "Requirement already satisfied: numpy>=1.23.5 in c:\\users\\mrlab\\miniconda3\\envs\\web_barcode_clone\\lib\\site-packages (from -r requirements.txt (line 7)) (1.24.1)\n",
      "Requirement already satisfied: opencv-python>=4.1.1 in c:\\users\\mrlab\\miniconda3\\envs\\web_barcode_clone\\lib\\site-packages (from -r requirements.txt (line 8)) (4.10.0.84)\n",
      "Requirement already satisfied: pillow>=10.3.0 in c:\\users\\mrlab\\miniconda3\\envs\\web_barcode_clone\\lib\\site-packages (from -r requirements.txt (line 9)) (10.4.0)\n",
      "Requirement already satisfied: psutil in c:\\users\\mrlab\\miniconda3\\envs\\web_barcode_clone\\lib\\site-packages (from -r requirements.txt (line 10)) (6.0.0)\n",
      "Requirement already satisfied: PyYAML>=5.3.1 in c:\\users\\mrlab\\miniconda3\\envs\\web_barcode_clone\\lib\\site-packages (from -r requirements.txt (line 11)) (6.0.2)\n",
      "Requirement already satisfied: requests>=2.32.2 in c:\\users\\mrlab\\miniconda3\\envs\\web_barcode_clone\\lib\\site-packages (from -r requirements.txt (line 12)) (2.32.3)\n",
      "Requirement already satisfied: scipy>=1.4.1 in c:\\users\\mrlab\\miniconda3\\envs\\web_barcode_clone\\lib\\site-packages (from -r requirements.txt (line 13)) (1.10.1)\n",
      "Requirement already satisfied: thop>=0.1.1 in c:\\users\\mrlab\\miniconda3\\envs\\web_barcode_clone\\lib\\site-packages (from -r requirements.txt (line 14)) (0.1.1.post2209072238)\n",
      "Requirement already satisfied: torch>=1.8.0 in c:\\users\\mrlab\\miniconda3\\envs\\web_barcode_clone\\lib\\site-packages (from -r requirements.txt (line 15)) (2.0.1+cu117)\n",
      "Requirement already satisfied: torchvision>=0.9.0 in c:\\users\\mrlab\\miniconda3\\envs\\web_barcode_clone\\lib\\site-packages (from -r requirements.txt (line 16)) (0.15.2+cu117)\n",
      "Requirement already satisfied: tqdm>=4.66.3 in c:\\users\\mrlab\\miniconda3\\envs\\web_barcode_clone\\lib\\site-packages (from -r requirements.txt (line 17)) (4.66.6)\n",
      "Requirement already satisfied: ultralytics>=8.2.34 in c:\\users\\mrlab\\miniconda3\\envs\\web_barcode_clone\\lib\\site-packages (from -r requirements.txt (line 18)) (8.3.24)\n",
      "Requirement already satisfied: pandas>=1.1.4 in c:\\users\\mrlab\\miniconda3\\envs\\web_barcode_clone\\lib\\site-packages (from -r requirements.txt (line 27)) (2.0.3)\n",
      "Requirement already satisfied: seaborn>=0.11.0 in c:\\users\\mrlab\\miniconda3\\envs\\web_barcode_clone\\lib\\site-packages (from -r requirements.txt (line 28)) (0.13.2)\n",
      "Requirement already satisfied: setuptools>=70.0.0 in c:\\users\\mrlab\\miniconda3\\envs\\web_barcode_clone\\lib\\site-packages (from -r requirements.txt (line 42)) (75.1.0)\n",
      "Requirement already satisfied: gitdb<5,>=4.0.1 in c:\\users\\mrlab\\miniconda3\\envs\\web_barcode_clone\\lib\\site-packages (from gitpython>=3.1.30->-r requirements.txt (line 5)) (4.0.11)\n",
      "Requirement already satisfied: contourpy>=1.0.1 in c:\\users\\mrlab\\miniconda3\\envs\\web_barcode_clone\\lib\\site-packages (from matplotlib>=3.3->-r requirements.txt (line 6)) (1.1.1)\n",
      "Requirement already satisfied: cycler>=0.10 in c:\\users\\mrlab\\miniconda3\\envs\\web_barcode_clone\\lib\\site-packages (from matplotlib>=3.3->-r requirements.txt (line 6)) (0.12.1)\n",
      "Requirement already satisfied: fonttools>=4.22.0 in c:\\users\\mrlab\\miniconda3\\envs\\web_barcode_clone\\lib\\site-packages (from matplotlib>=3.3->-r requirements.txt (line 6)) (4.54.1)\n",
      "Requirement already satisfied: kiwisolver>=1.0.1 in c:\\users\\mrlab\\miniconda3\\envs\\web_barcode_clone\\lib\\site-packages (from matplotlib>=3.3->-r requirements.txt (line 6)) (1.4.7)\n",
      "Requirement already satisfied: packaging>=20.0 in c:\\users\\mrlab\\miniconda3\\envs\\web_barcode_clone\\lib\\site-packages (from matplotlib>=3.3->-r requirements.txt (line 6)) (24.1)\n",
      "Requirement already satisfied: pyparsing>=2.3.1 in c:\\users\\mrlab\\miniconda3\\envs\\web_barcode_clone\\lib\\site-packages (from matplotlib>=3.3->-r requirements.txt (line 6)) (3.1.4)\n",
      "Requirement already satisfied: python-dateutil>=2.7 in c:\\users\\mrlab\\miniconda3\\envs\\web_barcode_clone\\lib\\site-packages (from matplotlib>=3.3->-r requirements.txt (line 6)) (2.9.0)\n",
      "Requirement already satisfied: importlib-resources>=3.2.0 in c:\\users\\mrlab\\miniconda3\\envs\\web_barcode_clone\\lib\\site-packages (from matplotlib>=3.3->-r requirements.txt (line 6)) (6.4.5)\n",
      "Requirement already satisfied: charset-normalizer<4,>=2 in c:\\users\\mrlab\\miniconda3\\envs\\web_barcode_clone\\lib\\site-packages (from requests>=2.32.2->-r requirements.txt (line 12)) (2.1.1)\n",
      "Requirement already satisfied: idna<4,>=2.5 in c:\\users\\mrlab\\miniconda3\\envs\\web_barcode_clone\\lib\\site-packages (from requests>=2.32.2->-r requirements.txt (line 12)) (3.4)\n",
      "Requirement already satisfied: urllib3<3,>=1.21.1 in c:\\users\\mrlab\\miniconda3\\envs\\web_barcode_clone\\lib\\site-packages (from requests>=2.32.2->-r requirements.txt (line 12)) (1.26.13)\n",
      "Requirement already satisfied: certifi>=2017.4.17 in c:\\users\\mrlab\\miniconda3\\envs\\web_barcode_clone\\lib\\site-packages (from requests>=2.32.2->-r requirements.txt (line 12)) (2022.12.7)\n",
      "Requirement already satisfied: filelock in c:\\users\\mrlab\\miniconda3\\envs\\web_barcode_clone\\lib\\site-packages (from torch>=1.8.0->-r requirements.txt (line 15)) (3.13.1)\n",
      "Requirement already satisfied: typing-extensions in c:\\users\\mrlab\\miniconda3\\envs\\web_barcode_clone\\lib\\site-packages (from torch>=1.8.0->-r requirements.txt (line 15)) (4.12.2)\n",
      "Requirement already satisfied: sympy in c:\\users\\mrlab\\miniconda3\\envs\\web_barcode_clone\\lib\\site-packages (from torch>=1.8.0->-r requirements.txt (line 15)) (1.13.1)\n",
      "Requirement already satisfied: networkx in c:\\users\\mrlab\\miniconda3\\envs\\web_barcode_clone\\lib\\site-packages (from torch>=1.8.0->-r requirements.txt (line 15)) (3.0)\n",
      "Requirement already satisfied: jinja2 in c:\\users\\mrlab\\miniconda3\\envs\\web_barcode_clone\\lib\\site-packages (from torch>=1.8.0->-r requirements.txt (line 15)) (3.1.3)\n",
      "Requirement already satisfied: colorama in c:\\users\\mrlab\\miniconda3\\envs\\web_barcode_clone\\lib\\site-packages (from tqdm>=4.66.3->-r requirements.txt (line 17)) (0.4.6)\n",
      "Requirement already satisfied: py-cpuinfo in c:\\users\\mrlab\\miniconda3\\envs\\web_barcode_clone\\lib\\site-packages (from ultralytics>=8.2.34->-r requirements.txt (line 18)) (9.0.0)\n",
      "Requirement already satisfied: ultralytics-thop>=2.0.0 in c:\\users\\mrlab\\miniconda3\\envs\\web_barcode_clone\\lib\\site-packages (from ultralytics>=8.2.34->-r requirements.txt (line 18)) (2.0.10)\n",
      "Requirement already satisfied: pytz>=2020.1 in c:\\users\\mrlab\\miniconda3\\envs\\web_barcode_clone\\lib\\site-packages (from pandas>=1.1.4->-r requirements.txt (line 27)) (2024.2)\n",
      "Requirement already satisfied: tzdata>=2022.1 in c:\\users\\mrlab\\miniconda3\\envs\\web_barcode_clone\\lib\\site-packages (from pandas>=1.1.4->-r requirements.txt (line 27)) (2024.2)\n",
      "Requirement already satisfied: smmap<6,>=3.0.1 in c:\\users\\mrlab\\miniconda3\\envs\\web_barcode_clone\\lib\\site-packages (from gitdb<5,>=4.0.1->gitpython>=3.1.30->-r requirements.txt (line 5)) (5.0.1)\n",
      "Requirement already satisfied: zipp>=3.1.0 in c:\\users\\mrlab\\miniconda3\\envs\\web_barcode_clone\\lib\\site-packages (from importlib-resources>=3.2.0->matplotlib>=3.3->-r requirements.txt (line 6)) (3.20.2)\n",
      "Requirement already satisfied: six>=1.5 in c:\\users\\mrlab\\miniconda3\\envs\\web_barcode_clone\\lib\\site-packages (from python-dateutil>=2.7->matplotlib>=3.3->-r requirements.txt (line 6)) (1.16.0)\n",
      "Requirement already satisfied: MarkupSafe>=2.0 in c:\\users\\mrlab\\miniconda3\\envs\\web_barcode_clone\\lib\\site-packages (from jinja2->torch>=1.8.0->-r requirements.txt (line 15)) (2.1.5)\n",
      "Requirement already satisfied: mpmath<1.4,>=1.1.0 in c:\\users\\mrlab\\miniconda3\\envs\\web_barcode_clone\\lib\\site-packages (from sympy->torch>=1.8.0->-r requirements.txt (line 15)) (1.3.0)\n"
     ]
    }
   ],
   "source": [
    "%cd yolov5\n",
    "!pip install -r requirements.txt"
   ]
  },
  {
   "cell_type": "code",
   "execution_count": 3,
   "metadata": {
    "id": "mZz4QW6BAX_B"
   },
   "outputs": [
    {
     "data": {
      "text/plain": [
       "'NVIDIA GeForce GTX 1080'"
      ]
     },
     "execution_count": 3,
     "metadata": {},
     "output_type": "execute_result"
    }
   ],
   "source": [
    "import torch\n",
    "torch.cuda.is_available()\n",
    "torch.cuda.get_device_name()"
   ]
  },
  {
   "cell_type": "code",
   "execution_count": 4,
   "metadata": {
    "id": "URlQ0mk8FKC_"
   },
   "outputs": [
    {
     "name": "stdout",
     "output_type": "stream",
     "text": [
      "[WinError 3] 지정된 경로를 찾을 수 없습니다: '/content/drive/MyDrive/yolov5/'\n",
      "c:\\Users\\mrlab\\Desktop\\code\\webcam\\Webcam-Barcode-Scanner\\yolov5\n"
     ]
    },
    {
     "name": "stderr",
     "output_type": "stream",
     "text": [
      "'rm'��(��) ���� �Ǵ� �ܺ� ����, ������ �� �ִ� ���α׷�, �Ǵ�\n",
      "��ġ ������ �ƴմϴ�.\n"
     ]
    }
   ],
   "source": [
    "%cd /content/drive/MyDrive/yolov5/\n",
    "!rm data/mydataset.yaml\n",
    "!echo 'train: /content/drive/MyDrive/Original/train' >> data/mydataset.yaml\n",
    "!echo 'val: /content/drive/MyDrive/Original/valid' >> data/mydataset.yaml\n",
    "!echo 'test: /content/drive/MyDrive/Original/test' >> data/mydataset.yaml\n",
    "!echo 'is_coco: False' >> data/mydataset.yaml\n",
    "!echo 'nc: 1' >> data/mydataset.yaml\n",
    "!echo \"names: ['barcode']\" >> data/mydataset.yaml"
   ]
  },
  {
   "cell_type": "code",
   "execution_count": null,
   "metadata": {
    "id": "0L3TIZZEVztL"
   },
   "outputs": [],
   "source": [
    "#https://github.com/ultralytics/yolov5/releases #Download pretrained model\n",
    "%cd /content/drive/MyDrive/yolov5/\n",
    "!wget https://github.com/ultralytics/yolov5/releases/download/v6.2/yolov5n.pt"
   ]
  },
  {
   "cell_type": "code",
   "execution_count": null,
   "metadata": {
    "id": "a5NeTrEIAeCE"
   },
   "outputs": [],
   "source": [
    "%cd /content/drive/MyDrive/yolov5/\n",
    "!python train.py --batch 16 --data mydataset.yaml --device 0 --cache --weights yolov5n.pt --epochs 300 --name barocde_detection\n",
    "\n",
    "# !python train.py --cache --resume"
   ]
  }
 ],
 "metadata": {
  "accelerator": "GPU",
  "colab": {
   "provenance": []
  },
  "gpuClass": "standard",
  "kernelspec": {
   "display_name": "web_barcode_clone",
   "language": "python",
   "name": "python3"
  },
  "language_info": {
   "codemirror_mode": {
    "name": "ipython",
    "version": 3
   },
   "file_extension": ".py",
   "mimetype": "text/x-python",
   "name": "python",
   "nbconvert_exporter": "python",
   "pygments_lexer": "ipython3",
   "version": "3.8.20"
  }
 },
 "nbformat": 4,
 "nbformat_minor": 0
}
